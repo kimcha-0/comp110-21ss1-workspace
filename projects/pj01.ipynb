{
 "metadata": {
  "language_info": {
   "codemirror_mode": {
    "name": "ipython",
    "version": 3
   },
   "file_extension": ".py",
   "mimetype": "text/x-python",
   "name": "python",
   "nbconvert_exporter": "python",
   "pygments_lexer": "ipython3",
   "version": "3.9.1"
  },
  "orig_nbformat": 2,
  "kernelspec": {
   "name": "python391jvsc74a57bd0e7a26f5bebd1b9da0f051359361ac514eb1c970e7ede8197699eeb788ac44870",
   "display_name": "Python 3.9.1 64-bit ('3.9')"
  },
  "metadata": {
   "interpreter": {
    "hash": "e7a26f5bebd1b9da0f051359361ac514eb1c970e7ede8197699eeb788ac44870"
   }
  }
 },
 "nbformat": 4,
 "nbformat_minor": 2,
 "cells": [
  {
   "source": [
    "# PJ01: Are students who believe the skills learned in the class were valuable more likely to major in COMP?"
   ],
   "cell_type": "markdown",
   "metadata": {}
  },
  {
   "cell_type": "code",
   "execution_count": null,
   "metadata": {},
   "outputs": [],
   "source": []
  }
 ]
}