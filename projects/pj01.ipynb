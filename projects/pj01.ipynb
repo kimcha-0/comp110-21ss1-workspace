{
 "metadata": {
  "language_info": {
   "codemirror_mode": {
    "name": "ipython",
    "version": 3
   },
   "file_extension": ".py",
   "mimetype": "text/x-python",
   "name": "python",
   "nbconvert_exporter": "python",
   "pygments_lexer": "ipython3",
   "version": "3.9.1"
  },
  "orig_nbformat": 2,
  "kernelspec": {
   "name": "python391jvsc74a57bd0e7a26f5bebd1b9da0f051359361ac514eb1c970e7ede8197699eeb788ac44870",
   "display_name": "Python 3.9.1 64-bit ('3.9')"
  },
  "metadata": {
   "interpreter": {
    "hash": "e7a26f5bebd1b9da0f051359361ac514eb1c970e7ede8197699eeb788ac44870"
   }
  }
 },
 "nbformat": 4,
 "nbformat_minor": 2,
 "cells": [
  {
   "source": [
    "# PJ01: Are students who believe the skills learned in the class were valuable more likely to major in COMP?"
   ],
   "cell_type": "markdown",
   "metadata": {}
  },
  {
   "source": [
    "Students choose to take courses for a variety of reasons. For example, a student may have chosen to take COMP 110 solely to fulfill a general education requirement while others do so to fulfill a requirement. I seek to investigate potential correlation between a student's perception of the value of the skills learned in COMP and whether or not they are COMP majors."
   ],
   "cell_type": "markdown",
   "metadata": {}
  },
  {
   "cell_type": "code",
   "execution_count": 72,
   "metadata": {},
   "outputs": [],
   "source": [
    "%reload_ext autoreload\n",
    "%autoreload 2"
   ]
  },
  {
   "source": [
    "In order to analytically explore this question, we must first read in the csv file containing the data and convert it into column-oriented data in order to make it easier to work with. We use the columnar function which converts the row-oriented data into column-oriented and prints the names of the keys in the dictionary."
   ],
   "cell_type": "markdown",
   "metadata": {}
  },
  {
   "cell_type": "code",
   "execution_count": 73,
   "metadata": {
    "tags": []
   },
   "outputs": [
    {
     "output_type": "stream",
     "name": "stdout",
     "text": [
      "The key is 0.\nThe key is row_number.\nThe key is year.\nThe key is unc_status.\nThe key is comp_major.\nThe key is primary_major.\nThe key is prereqs.\nThe key is prior_exp.\nThe key is AP_Principles.\nThe key is AP_A.\nThe key is other_comp.\nThe key is prior_time.\nThe key is languages.\nThe key is residency.\nThe key is on_campus.\nThe key is international.\nThe key is section.\nThe key is lesson_time.\nThe key is sync_perf.\nThe key is all_sync.\nThe key is own_notes.\nThe key is own_examples.\nThe key is oh_visits.\nThe key is ls_effective.\nThe key is lsqs_effective.\nThe key is programming_effective.\nThe key is qz_effective.\nThe key is oh_effective.\nThe key is tutoring_effective.\nThe key is kaki_effective.\nThe key is pace.\nThe key is difficulty.\nThe key is understanding.\nThe key is interested.\nThe key is valuable.\nThe key is would_recommend.\n"
     ]
    }
   ],
   "source": [
    "from data_utils import read_csv_rows, columnar\n",
    "\n",
    "data_rows: list[dict[str, str]] = read_csv_rows('../data/survey.csv')\n",
    "columns: dict[str, list[str]] = columnar(data_rows)\n"
   ]
  },
  {
   "source": [
    "Now, we select the data columns we want to work with. In this case, we want to work with the `comp_major` and `valuable` columns. Further, let's just use the first 100 rows of data."
   ],
   "cell_type": "markdown",
   "metadata": {}
  },
  {
   "cell_type": "code",
   "execution_count": 74,
   "metadata": {},
   "outputs": [],
   "source": [
    "from data_utils import select, head\n",
    "\n",
    "selected_data: dict[str, list[str]] = select(columns, [\"comp_major\", \"valuable\"])\n",
    "selected_data_300: dict[str, list[str]] = head(selected_data, 300)"
   ]
  },
  {
   "source": [
    "Let's further specify what subset of students we want to investigate. Let's use students who rated the value of skills learned in the course higher than or equal to 5."
   ],
   "cell_type": "markdown",
   "metadata": {}
  },
  {
   "source": [
    "This function goes over the data and filters students who have either no experience or 2-6 months experience. This allows us to investigate the relationship between value and comp_major for students with little to no experience."
   ],
   "cell_type": "markdown",
   "metadata": {}
  },
  {
   "cell_type": "code",
   "execution_count": 92,
   "metadata": {},
   "outputs": [
    {
     "output_type": "error",
     "ename": "AttributeError",
     "evalue": "'int' object has no attribute 'append'",
     "traceback": [
      "\u001b[0;31m---------------------------------------------------------------------------\u001b[0m",
      "\u001b[0;31mAttributeError\u001b[0m                            Traceback (most recent call last)",
      "\u001b[0;32m<ipython-input-92-bb2899d0dbbb>\u001b[0m in \u001b[0;36m<module>\u001b[0;34m\u001b[0m\n\u001b[1;32m     10\u001b[0m     \u001b[0;32mreturn\u001b[0m \u001b[0mhigh_value_major\u001b[0m\u001b[0;34m\u001b[0m\u001b[0;34m\u001b[0m\u001b[0m\n\u001b[1;32m     11\u001b[0m \u001b[0;34m\u001b[0m\u001b[0m\n\u001b[0;32m---> 12\u001b[0;31m \u001b[0mfiltered_data\u001b[0m \u001b[0;34m=\u001b[0m \u001b[0mfilter_high_value\u001b[0m\u001b[0;34m(\u001b[0m\u001b[0mselected_data_300\u001b[0m\u001b[0;34m)\u001b[0m\u001b[0;34m\u001b[0m\u001b[0;34m\u001b[0m\u001b[0m\n\u001b[0m\u001b[1;32m     13\u001b[0m \u001b[0;34m\u001b[0m\u001b[0m\n",
      "\u001b[0;32m<ipython-input-92-bb2899d0dbbb>\u001b[0m in \u001b[0;36mfilter_high_value\u001b[0;34m(data)\u001b[0m\n\u001b[1;32m      6\u001b[0m     \u001b[0;32mwhile\u001b[0m \u001b[0mi\u001b[0m \u001b[0;34m<\u001b[0m \u001b[0mlen\u001b[0m\u001b[0;34m(\u001b[0m\u001b[0mvaluable_values\u001b[0m\u001b[0;34m)\u001b[0m\u001b[0;34m:\u001b[0m\u001b[0;34m\u001b[0m\u001b[0;34m\u001b[0m\u001b[0m\n\u001b[1;32m      7\u001b[0m         \u001b[0;32mif\u001b[0m \u001b[0mvaluable_values\u001b[0m\u001b[0;34m[\u001b[0m\u001b[0mi\u001b[0m\u001b[0;34m]\u001b[0m \u001b[0;34m==\u001b[0m \u001b[0;34m'5'\u001b[0m \u001b[0;32mor\u001b[0m \u001b[0mvaluable_values\u001b[0m\u001b[0;34m[\u001b[0m\u001b[0mi\u001b[0m\u001b[0;34m]\u001b[0m \u001b[0;34m==\u001b[0m \u001b[0;34m'6'\u001b[0m \u001b[0;32mor\u001b[0m \u001b[0mvaluable_values\u001b[0m\u001b[0;34m[\u001b[0m\u001b[0mi\u001b[0m\u001b[0;34m]\u001b[0m \u001b[0;34m==\u001b[0m \u001b[0;34m'7'\u001b[0m\u001b[0;34m:\u001b[0m\u001b[0;34m\u001b[0m\u001b[0;34m\u001b[0m\u001b[0m\n\u001b[0;32m----> 8\u001b[0;31m             \u001b[0mhigh_value_major\u001b[0m\u001b[0;34m.\u001b[0m\u001b[0mappend\u001b[0m\u001b[0;34m(\u001b[0m\u001b[0mmajor_values\u001b[0m\u001b[0;34m[\u001b[0m\u001b[0mi\u001b[0m\u001b[0;34m]\u001b[0m\u001b[0;34m)\u001b[0m\u001b[0;34m\u001b[0m\u001b[0;34m\u001b[0m\u001b[0m\n\u001b[0m\u001b[1;32m      9\u001b[0m         \u001b[0mi\u001b[0m \u001b[0;34m+=\u001b[0m \u001b[0;36m1\u001b[0m\u001b[0;34m\u001b[0m\u001b[0;34m\u001b[0m\u001b[0m\n\u001b[1;32m     10\u001b[0m     \u001b[0;32mreturn\u001b[0m \u001b[0mhigh_value_major\u001b[0m\u001b[0;34m\u001b[0m\u001b[0;34m\u001b[0m\u001b[0m\n",
      "\u001b[0;31mAttributeError\u001b[0m: 'int' object has no attribute 'append'"
     ]
    }
   ],
   "source": [
    "def filter_high_value(data: dict[str, list[str]]) -> list[str]:\n",
    "    high_value_major: list[str] = 0\n",
    "    major_values: list[str] = data[\"comp_major\"]\n",
    "    valuable_values: list[str] = data[\"valuable\"]\n",
    "    i: int = 0\n",
    "    while i < len(valuable_values):\n",
    "        if valuable_values[i] == '5' or valuable_values[i] == '6' or valuable_values[i] == '7':\n",
    "            high_value_major.append(major_values[i])\n",
    "        i += 1\n",
    "    return high_value_major\n",
    "\n",
    "filtered_data = filter_high_value(selected_data_300)\n",
    "\n"
   ]
  },
  {
   "source": [
    "\n",
    "       diffculties_no_prior_exp: list[str] = [ ]\n",
    "        i: int = 0\n",
    "     # extract the experience column from parameter data\n",
    "    experience_values: list[str] = data[\"prior_exp\"]\n",
    "    # extract the difficulty column from parameter data\n",
    "    difficulty_values: list[str] = data[\"difficulty\"]\n",
    "    while i < len(experience_values)\n",
    "    if experience_values[i] == \"None to less than one month!\":\n",
    "        diffculties_no_prior_exp.append(difficulty_values[i]\n",
    "     i += 1\n",
    "    return diffculties_no_prior_exp"
   ],
   "cell_type": "markdown",
   "metadata": {}
  },
  {
   "source": [
    "Now, we count the students with little to no experience who found the skills learned in the course to be valuable."
   ],
   "cell_type": "markdown",
   "metadata": {}
  },
  {
   "cell_type": "code",
   "execution_count": 76,
   "metadata": {},
   "outputs": [
    {
     "output_type": "stream",
     "name": "stdout",
     "text": [
      "major_counts: {'No': 206, 'Yes - BS': 32, 'Yes - Minor': 35, 'Yes - BA': 27}\n"
     ]
    }
   ],
   "source": [
    "from data_utils import count\n",
    "\n",
    "major_counts: dict[str, list[str]] = count(selected_data_300[\"comp_major\"])\n",
    "print(f\"major_counts: {major_counts}\")\n"
   ]
  }
 ]
}